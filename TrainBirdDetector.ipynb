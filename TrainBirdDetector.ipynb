{
 "cells": [
  {
   "cell_type": "code",
   "execution_count": 1,
   "metadata": {},
   "outputs": [
    {
     "name": "stderr",
     "output_type": "stream",
     "text": [
      "/home/ubuntu/.conda/envs/drones4ducks/lib/python3.10/site-packages/tqdm/auto.py:22: TqdmWarning: IProgress not found. Please update jupyter and ipywidgets. See https://ipywidgets.readthedocs.io/en/stable/user_install.html\n",
      "  from .autonotebook import tqdm as notebook_tqdm\n"
     ]
    }
   ],
   "source": [
    "#load the modules\n",
    "import os\n",
    "import time\n",
    "import numpy as np\n",
    "from deepforest import main \n",
    "from deepforest import get_data\n",
    "from deepforest import utilities\n",
    "from deepforest import preprocess"
   ]
  },
  {
   "cell_type": "code",
   "execution_count": 2,
   "metadata": {},
   "outputs": [],
   "source": [
    "#Prepare training and validation data\n",
    "trainimg_dir = r\"/datadrive/Data/train/\"\n",
    "valimg_dir = r\"/datadrive/Data/val/\"\n",
    "\n",
    "annotations_file = r\"/datadrive/Data/train_filtered.csv\"\n",
    "validation_file = r\"/datadrive/Data/val_filtered.csv\"\n",
    "#Find annotation path\n",
    "#train_annotation_path = os.path.join(trainimg_dir,\"train_example.csv\")\n",
    "#val_annotation_path = os.path.join(valimg_dir, \"\")\n"
   ]
  },
  {
   "cell_type": "code",
   "execution_count": 3,
   "metadata": {},
   "outputs": [],
   "source": [
    "#ONLY IF WORKING WITH ORTHOMOSAICS: crop raster + save tiles in a newly created directory\n",
    "#os.mkdir(os.getcwd(),'train_data_folder')\n",
    "#crop_dir = os.path.join(os.getcwd(),'train_data_folder')\n",
    "#train_annotations= preprocess.split_raster(path_to_raster=trainlabels,\n",
    "#                                 annotations_file=annotation_path,\n",
    "#                                 base_dir=crop_dir,\n",
    "#                                 patch_size=400,\n",
    "#                                 patch_overlap=0.05)"
   ]
  },
  {
   "cell_type": "code",
   "execution_count": 4,
   "metadata": {},
   "outputs": [],
   "source": [
    "# #THIS was done in a separate script for this instance\n",
    "# # Split image set into train / val / test. This is just a random subsampling by image; a spatial split is preferred where possible\n",
    "# image_paths = train_annotations.filename.unique()\n",
    "# #split 60/20/20 train/val/test\n",
    "# valid_paths = np.random.choice(image_paths, int(len(image_paths)*0.4) )\n",
    "# valid_annotations = train_annotations.loc[train_annotations.filename.isin(valid_paths)]\n",
    "# train_annotations = train_annotations.loc[~train_annotations.filename.isin(valid_paths)]\n",
    "# test_paths = np.random.choice(valid_paths, int(len(valid_paths)*0.5))\n",
    "# test_annotations = valid_annotations.loc[valid_annotations.filename.isin(test_paths)]\n",
    "# valid_annotations = valid_annotations.loc[~valid_annotations.filename.isin(test_paths)]"
   ]
  },
  {
   "cell_type": "code",
   "execution_count": 5,
   "metadata": {},
   "outputs": [],
   "source": [
    "# #View output\n",
    "# train_annotations.head()\n",
    "# print(\"There are {} training bird annotations\".format(train_annotations.shape[0]))\n",
    "# #probably want to add other metrics-- class breakdown for instance\n",
    "# print(\"There are {} test bird annotations\".format(valid_annotations.shape[0]))\n",
    "\n",
    "# #save to file and create the file dir\n",
    "# annotations_file= os.path.join(img_dir,\"train.csv\")\n",
    "# validation_file= os.path.join(img_dir,\"valid.csv\")\n",
    "# #Write window annotations file without a header row, same location as the \"base_dir\" above.\n",
    "# train_annotations.to_csv(annotations_file,index=False)\n",
    "# valid_annotations.to_csv(validation_file,index=False)"
   ]
  },
  {
   "cell_type": "code",
   "execution_count": 6,
   "metadata": {},
   "outputs": [
    {
     "name": "stdout",
     "output_type": "stream",
     "text": [
      "Reading config file: /home/ubuntu/.conda/envs/drones4ducks/lib/python3.10/site-packages/deepforest/data/deepforest_config.yml\n"
     ]
    },
    {
     "name": "stderr",
     "output_type": "stream",
     "text": [
      "/home/ubuntu/.conda/envs/drones4ducks/lib/python3.10/site-packages/torchvision/models/_utils.py:208: UserWarning: The parameter 'pretrained' is deprecated since 0.13 and will be removed in 0.15, please use 'weights' instead.\n",
      "  warnings.warn(\n",
      "/home/ubuntu/.conda/envs/drones4ducks/lib/python3.10/site-packages/torchvision/models/_utils.py:223: UserWarning: Arguments other than a weight enum or `None` for 'weights' are deprecated since 0.13 and will be removed in 0.15. The current behavior is equivalent to passing `weights=RetinaNet_ResNet50_FPN_Weights.COCO_V1`. You can also use `weights=RetinaNet_ResNet50_FPN_Weights.DEFAULT` to get the most up-to-date weights.\n",
      "  warnings.warn(msg)\n",
      "/home/ubuntu/.conda/envs/drones4ducks/lib/python3.10/site-packages/pytorch_lightning/trainer/connectors/accelerator_connector.py:445: LightningDeprecationWarning: Setting `Trainer(gpus='-1')` is deprecated in v1.7 and will be removed in v2.0. Please use `Trainer(accelerator='gpu', devices='-1')` instead.\n",
      "  rank_zero_deprecation(\n",
      "GPU available: True (cuda), used: True\n",
      "TPU available: False, using: 0 TPU cores\n",
      "IPU available: False, using: 0 IPUs\n",
      "HPU available: False, using: 0 HPUs\n"
     ]
    },
    {
     "name": "stdout",
     "output_type": "stream",
     "text": [
      "Model from BirdDetector Repo release https://github.com/weecology/BirdDetector/releases/tag/1.1 was already downloaded. Loading model from file.\n",
      "Loading pre-built model: https://github.com/weecology/BirdDetector/releases/tag/1.1\n"
     ]
    }
   ],
   "source": [
    "#initial the model \n",
    "m = main.deepforest()\n",
    "\n",
    "#change the corresponding config file\n",
    "m.config['gpus'] = '-1' #move to GPU and use all the GPU resources\n",
    "m.config[\"train\"][\"csv_file\"] = annotations_file\n",
    "m.config[\"train\"][\"root_dir\"] = trainimg_dir\n",
    "m.config[\"score_thresh\"] = 0.4\n",
    "m.config[\"train\"]['epochs'] = 2\n",
    "m.config[\"validation\"][\"csv_file\"] = validation_file\n",
    "m.config[\"validation\"][\"root_dir\"] = valimg_dir\n",
    "\n",
    "#create a pytorch lighting trainer used to training \n",
    "m.create_trainer()\n",
    "\n",
    "#use Bird Detector\n",
    "m.use_bird_release()"
   ]
  },
  {
   "cell_type": "code",
   "execution_count": 7,
   "metadata": {},
   "outputs": [
    {
     "ename": "ReferenceError",
     "evalue": "weakly-referenced object no longer exists",
     "output_type": "error",
     "traceback": [
      "\u001b[0;31m---------------------------------------------------------------------------\u001b[0m",
      "\u001b[0;31mReferenceError\u001b[0m                            Traceback (most recent call last)",
      "\u001b[1;32m/home/ubuntu/drones4ducks-prototyping/TrainBirdDetector.ipynb Cell 7\u001b[0m in \u001b[0;36m<cell line: 2>\u001b[0;34m()\u001b[0m\n\u001b[1;32m      <a href='vscode-notebook-cell://ssh-remote%2Bdronesforducks/home/ubuntu/drones4ducks-prototyping/TrainBirdDetector.ipynb#W6sdnNjb2RlLXJlbW90ZQ%3D%3D?line=0'>1</a>\u001b[0m start_time \u001b[39m=\u001b[39m time\u001b[39m.\u001b[39mtime()\n\u001b[0;32m----> <a href='vscode-notebook-cell://ssh-remote%2Bdronesforducks/home/ubuntu/drones4ducks-prototyping/TrainBirdDetector.ipynb#W6sdnNjb2RlLXJlbW90ZQ%3D%3D?line=1'>2</a>\u001b[0m m\u001b[39m.\u001b[39;49mtrainer\u001b[39m.\u001b[39;49mfit(m)\n\u001b[1;32m      <a href='vscode-notebook-cell://ssh-remote%2Bdronesforducks/home/ubuntu/drones4ducks-prototyping/TrainBirdDetector.ipynb#W6sdnNjb2RlLXJlbW90ZQ%3D%3D?line=2'>3</a>\u001b[0m \u001b[39mprint\u001b[39m(\u001b[39mf\u001b[39m\u001b[39m\"\u001b[39m\u001b[39m--- Training on GPU: \u001b[39m\u001b[39m{\u001b[39;00m(time\u001b[39m.\u001b[39mtime() \u001b[39m-\u001b[39m start_time)\u001b[39m:\u001b[39;00m\u001b[39m.2f\u001b[39m\u001b[39m}\u001b[39;00m\u001b[39m seconds ---\u001b[39m\u001b[39m\"\u001b[39m)\n",
      "\u001b[0;31mReferenceError\u001b[0m: weakly-referenced object no longer exists"
     ]
    }
   ],
   "source": [
    "start_time = time.time()\n",
    "m.trainer.fit(m)\n",
    "print(f\"--- Training on GPU: {(time.time() - start_time):.2f} seconds ---\")"
   ]
  },
  {
   "cell_type": "code",
   "execution_count": null,
   "metadata": {},
   "outputs": [],
   "source": [
    "#save the prediction result to a prediction folder\n",
    "save_dir = os.path.join(os.getcwd(),'prediction_result')\n",
    "try:\n",
    "  os.mkdir(save_dir)\n",
    "except FileExistsError:\n",
    "  pass\n",
    "results = m.evaluate(annotations_file, os.path.dirname(annotations_file), iou_threshold = 0.4, savedir= save_dir)"
   ]
  },
  {
   "cell_type": "code",
   "execution_count": null,
   "metadata": {},
   "outputs": [],
   "source": [
    "##EVALUATION\n",
    "results "
   ]
  },
  {
   "cell_type": "code",
   "execution_count": null,
   "metadata": {},
   "outputs": [],
   "source": [
    "results['box_precision']"
   ]
  },
  {
   "cell_type": "code",
   "execution_count": null,
   "metadata": {},
   "outputs": [],
   "source": [
    "results[\"box_recall\"]"
   ]
  },
  {
   "cell_type": "code",
   "execution_count": null,
   "metadata": {},
   "outputs": [],
   "source": [
    "results[\"results\"]"
   ]
  },
  {
   "cell_type": "code",
   "execution_count": null,
   "metadata": {},
   "outputs": [],
   "source": [
    "results[\"class_recall\"]"
   ]
  }
 ],
 "metadata": {
  "kernelspec": {
   "display_name": "Python 3.10.5 ('drones4ducks')",
   "language": "python",
   "name": "python3"
  },
  "language_info": {
   "codemirror_mode": {
    "name": "ipython",
    "version": 3
   },
   "file_extension": ".py",
   "mimetype": "text/x-python",
   "name": "python",
   "nbconvert_exporter": "python",
   "pygments_lexer": "ipython3",
   "version": "3.10.5"
  },
  "orig_nbformat": 4,
  "vscode": {
   "interpreter": {
    "hash": "ba4956278281cc054d4a859f88f39b2ecdea35de1f44fbca4d74c58a259dacaf"
   }
  }
 },
 "nbformat": 4,
 "nbformat_minor": 2
}
