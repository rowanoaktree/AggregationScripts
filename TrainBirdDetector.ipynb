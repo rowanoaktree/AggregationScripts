{
 "cells": [
  {
   "cell_type": "code",
   "execution_count": 2,
   "metadata": {},
   "outputs": [],
   "source": [
    "#load the modules\n",
    "import os\n",
    "import time\n",
    "import numpy as np\n",
    "from deepforest import main \n",
    "from deepforest import get_data\n",
    "from deepforest import utilities\n",
    "from deepforest import preprocess"
   ]
  },
  {
   "cell_type": "code",
   "execution_count": null,
   "metadata": {},
   "outputs": [],
   "source": [
    "#Prepare training and validation data\n",
    "img_dir = r\"\"\n",
    "train_labelpath = r\"\"\n",
    "val_labelpath = r\"\"\n",
    "\n",
    "train_annotations = r\"\"\n",
    "valid_annotations = r\"\"\n",
    "#Find annotation path\n",
    "annotation_path = os.path.join(img_dir,\"train_example.csv\")\n"
   ]
  },
  {
   "cell_type": "code",
   "execution_count": null,
   "metadata": {},
   "outputs": [],
   "source": [
    "#ONLY IF WORKING WITH ORTHOMOSAICS: crop raster + save tiles in a newly created directory\n",
    "#os.mkdir(os.getcwd(),'train_data_folder')\n",
    "#crop_dir = os.path.join(os.getcwd(),'train_data_folder')\n",
    "#train_annotations= preprocess.split_raster(path_to_raster=trainlabels,\n",
    "#                                 annotations_file=annotation_path,\n",
    "#                                 base_dir=crop_dir,\n",
    "#                                 patch_size=400,\n",
    "#                                 patch_overlap=0.05)"
   ]
  },
  {
   "cell_type": "code",
   "execution_count": null,
   "metadata": {},
   "outputs": [],
   "source": [
    "#Split image set into train / val / test. This is just a random subsampling by image; a spatial split is preferred where possible\n",
    "image_paths = train_annotations.filename.unique()\n",
    "#split 60/20/20 train/val/test\n",
    "valid_paths = np.random.choice(image_paths, int(len(image_paths)*0.4) )\n",
    "valid_annotations = train_annotations.loc[train_annotations.filename.isin(valid_paths)]\n",
    "train_annotations = train_annotations.loc[~train_annotations.filename.isin(valid_paths)]\n",
    "test_paths = np.random.choice(valid_paths, int(len(valid_paths)*0.5))\n",
    "test_annotations = valid_annotations.loc[valid_annotations.filename.isin(test_paths)]\n",
    "valid_annotations = valid_annotations.loc[~valid_annotations.filename.isin(test_paths)]"
   ]
  },
  {
   "cell_type": "code",
   "execution_count": null,
   "metadata": {},
   "outputs": [],
   "source": [
    "#View output\n",
    "train_annotations.head()\n",
    "print(\"There are {} training bird annotations\".format(train_annotations.shape[0]))\n",
    "#probably want to add other metrics-- class breakdown for instance\n",
    "print(\"There are {} test bird annotations\".format(valid_annotations.shape[0]))\n",
    "\n",
    "#save to file and create the file dir\n",
    "annotations_file= os.path.join(img_dir,\"train.csv\")\n",
    "validation_file= os.path.join(img_dir,\"valid.csv\")\n",
    "#Write window annotations file without a header row, same location as the \"base_dir\" above.\n",
    "train_annotations.to_csv(annotations_file,index=False)\n",
    "valid_annotations.to_csv(validation_file,index=False)"
   ]
  },
  {
   "cell_type": "code",
   "execution_count": null,
   "metadata": {},
   "outputs": [],
   "source": [
    "#initial the model \n",
    "m = main.deepforest()\n",
    "\n",
    "#change the corresponding config file\n",
    "m.config['gpus'] = '-1' #move to GPU and use all the GPU resources\n",
    "m.config[\"train\"][\"csv_file\"] = annotations_file\n",
    "m.config[\"train\"][\"root_dir\"] = os.path.dirname(annotations_file)\n",
    "m.config[\"score_thresh\"] = 0.4\n",
    "m.config[\"train\"]['epochs'] = 2\n",
    "m.config[\"validation\"][\"csv_file\"] = validation_file\n",
    "m.config[\"validation\"][\"root_dir\"] = os.path.dirname(validation_file)\n",
    "\n",
    "#create a pytorch lighting trainer used to training \n",
    "m.create_trainer()\n",
    "\n",
    "#use Bird Detector\n",
    "m.use_bird_release()"
   ]
  },
  {
   "cell_type": "code",
   "execution_count": null,
   "metadata": {},
   "outputs": [],
   "source": [
    "start_time = time.time()\n",
    "m.trainer.fit(m)\n",
    "print(f\"--- Training on GPU: {(time.time() - start_time):.2f} seconds ---\")"
   ]
  },
  {
   "cell_type": "code",
   "execution_count": null,
   "metadata": {},
   "outputs": [],
   "source": [
    "#save the prediction result to a prediction folder\n",
    "save_dir = os.path.join(os.getcwd(),'prediction_result')\n",
    "try:\n",
    "  os.mkdir(save_dir)\n",
    "except FileExistsError:\n",
    "  pass\n",
    "results = m.evaluate(annotations_file, os.path.dirname(annotations_file), iou_threshold = 0.4, savedir= save_dir)"
   ]
  },
  {
   "cell_type": "code",
   "execution_count": null,
   "metadata": {},
   "outputs": [],
   "source": [
    "##EVALUATION\n",
    "results "
   ]
  },
  {
   "cell_type": "code",
   "execution_count": null,
   "metadata": {},
   "outputs": [],
   "source": [
    "results['box_precision']"
   ]
  },
  {
   "cell_type": "code",
   "execution_count": null,
   "metadata": {},
   "outputs": [],
   "source": [
    "results[\"box_recall\"]"
   ]
  },
  {
   "cell_type": "code",
   "execution_count": null,
   "metadata": {},
   "outputs": [],
   "source": [
    "results[\"results\"]"
   ]
  },
  {
   "cell_type": "code",
   "execution_count": null,
   "metadata": {},
   "outputs": [],
   "source": [
    "results[\"class_recall\"]"
   ]
  }
 ],
 "metadata": {
  "kernelspec": {
   "display_name": "Python 3.8.13 ('dronesforducks')",
   "language": "python",
   "name": "python3"
  },
  "language_info": {
   "codemirror_mode": {
    "name": "ipython",
    "version": 3
   },
   "file_extension": ".py",
   "mimetype": "text/x-python",
   "name": "python",
   "nbconvert_exporter": "python",
   "pygments_lexer": "ipython3",
   "version": "3.8.13"
  },
  "orig_nbformat": 4,
  "vscode": {
   "interpreter": {
    "hash": "81ebe24ea7fba4c93a70a528aa242eb24818c23cab309b05768b37e0a698879f"
   }
  }
 },
 "nbformat": 4,
 "nbformat_minor": 2
}
