{
 "cells": [
  {
   "cell_type": "code",
   "execution_count": null,
   "metadata": {},
   "outputs": [],
   "source": [
    "# Date: 02/27/2023\n",
    "# Running basic stats on the raw Zooniverse exports and visualizing them\n",
    "# Separating D/G/C from the Seagull workflow, then adding together"
   ]
  },
  {
   "cell_type": "code",
   "execution_count": 6,
   "metadata": {},
   "outputs": [],
   "source": [
    "#import packages\n",
    "import json\n",
    "import pandas as pd"
   ]
  },
  {
   "cell_type": "code",
   "execution_count": 17,
   "metadata": {},
   "outputs": [],
   "source": [
    "#Import datasets\n",
    "#dgc\n",
    "dgcpath = r\"/Users/rowanconverse/Library/CloudStorage/OneDrive-UniversityofNewMexico/CV4Ecology/Prototyping/Data/Labels/coco/20220227_dgc.json\"\n",
    "with open(dgcpath) as g:\n",
    "  dgc = pd.read_json(g)\n",
    "\n",
    "#dgc + seagull\n",
    "seagullpath = r\"/Users/rowanconverse/Library/CloudStorage/OneDrive-UniversityofNewMexico/CV4Ecology/Prototyping/Data/Labels/coco/20220227_seagull.json\"\n",
    "with open(seagullpath) as f:\n",
    "  seagull = pd.read_json(f)"
   ]
  },
  {
   "cell_type": "code",
   "execution_count": 18,
   "metadata": {},
   "outputs": [
    {
     "data": {
      "text/plain": [
       "Duck          834488\n",
       "Crane         241895\n",
       "Goose         106814\n",
       "Other Bird      9272\n",
       "Name: category, dtype: int64"
      ]
     },
     "execution_count": 18,
     "metadata": {},
     "output_type": "execute_result"
    }
   ],
   "source": [
    "#Annotations by class: DGC\n",
    "dgc[\"category\"].value_counts()"
   ]
  },
  {
   "cell_type": "code",
   "execution_count": 16,
   "metadata": {},
   "outputs": [
    {
     "data": {
      "text/plain": [
       "Seagull    152538\n",
       "Goose       56358\n",
       "Duck        39065\n",
       "Crane        8871\n",
       "Name: category, dtype: int64"
      ]
     },
     "execution_count": 16,
     "metadata": {},
     "output_type": "execute_result"
    }
   ],
   "source": [
    "#Annotations by class : Seagull\n",
    "\n",
    "#Raw\n",
    "print(seagull[\"category\"].value_counts())\n",
    "\n",
    "#Divided by number of labelers"
   ]
  },
  {
   "cell_type": "code",
   "execution_count": 23,
   "metadata": {},
   "outputs": [
    {
     "name": "stdout",
     "output_type": "stream",
     "text": [
      "seagull: 3066\n",
      "dgc: 27885\n"
     ]
    }
   ],
   "source": [
    "#Images, avg annotations per image (divided by 15 for number of users pre-retirement)\n",
    "print(\"seagull: \"+str(len(seagull[\"filename\"].unique())))\n",
    "print(\"dgc: \"+str(len(dgc[\"filename\"].unique())))"
   ]
  },
  {
   "cell_type": "code",
   "execution_count": 24,
   "metadata": {},
   "outputs": [
    {
     "name": "stdout",
     "output_type": "stream",
     "text": [
      "seagull: 1642\n",
      "dgc: 5503\n"
     ]
    }
   ],
   "source": [
    "#Labelers\n",
    "print(\"seagull: \"+str(len(seagull[\"labeler_id\"].unique())))\n",
    "print(\"dgc: \"+str(len(dgc[\"labeler_id\"].unique())))"
   ]
  },
  {
   "cell_type": "code",
   "execution_count": 27,
   "metadata": {},
   "outputs": [
    {
     "data": {
      "text/plain": [
       "<matplotlib.axes._subplots.AxesSubplot at 0x7fa4a6283790>"
      ]
     },
     "execution_count": 27,
     "metadata": {},
     "output_type": "execute_result"
    },
    {
     "data": {
      "image/png": "[encoded data removed]",
      "text/plain": [
       "<Figure size 432x288 with 1 Axes>"
      ]
     },
     "metadata": {
      "needs_background": "light"
     },
     "output_type": "display_data"
    }
   ],
   "source": [
    "#Labels per labeler\n",
    "dgc.labeler_id.value_counts().plot(kind='bar')"
   ]
  }
 ],
 "metadata": {
  "kernelspec": {
   "display_name": "dronesforducks",
   "language": "python",
   "name": "python3"
  },
  "language_info": {
   "codemirror_mode": {
    "name": "ipython",
    "version": 3
   },
   "file_extension": ".py",
   "mimetype": "text/x-python",
   "name": "python",
   "nbconvert_exporter": "python",
   "pygments_lexer": "ipython3",
   "version": "3.8.13"
  },
  "orig_nbformat": 4,
  "vscode": {
   "interpreter": {
    "hash": "81ebe24ea7fba4c93a70a528aa242eb24818c23cab309b05768b37e0a698879f"
   }
  }
 },
 "nbformat": 4,
 "nbformat_minor": 2
}
