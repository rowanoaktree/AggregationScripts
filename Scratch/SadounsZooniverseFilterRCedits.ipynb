{
 "cells": [
  {
   "cell_type": "code",
   "execution_count": 1,
   "id": "336c8724",
   "metadata": {},
   "outputs": [],
   "source": [
    "import pandas as pd\n",
    "import numpy as np"
   ]
  },
  {
   "cell_type": "code",
   "execution_count": 2,
   "id": "5bd98af1",
   "metadata": {},
   "outputs": [
    {
     "name": "stderr",
     "output_type": "stream",
     "text": [
      "/Users/rowanconverse/opt/anaconda3/lib/python3.9/site-packages/IPython/core/interactiveshell.py:3444: DtypeWarning: Columns (0) have mixed types.Specify dtype option on import or set low_memory=False.\n",
      "  exec(code_obj, self.user_global_ns, self.user_ns)\n"
     ]
    },
    {
     "data": {
      "text/html": [
       "<div>\n",
       "<style scoped>\n",
       "    .dataframe tbody tr th:only-of-type {\n",
       "        vertical-align: middle;\n",
       "    }\n",
       "\n",
       "    .dataframe tbody tr th {\n",
       "        vertical-align: top;\n",
       "    }\n",
       "\n",
       "    .dataframe thead th {\n",
       "        text-align: right;\n",
       "    }\n",
       "</style>\n",
       "<table border=\"1\" class=\"dataframe\">\n",
       "  <thead>\n",
       "    <tr style=\"text-align: right;\">\n",
       "      <th></th>\n",
       "      <th>metadata</th>\n",
       "      <th>annotations</th>\n",
       "      <th>subject_data</th>\n",
       "      <th>object_count</th>\n",
       "    </tr>\n",
       "  </thead>\n",
       "  <tbody>\n",
       "    <tr>\n",
       "      <th>0</th>\n",
       "      <td>source:api,session:15e8c6c801b72d6bfd7dc7d33b2...</td>\n",
       "      <td>task:T0,task_label:Do you see birds in this im...</td>\n",
       "      <td>54652402:retired:null,Filename:BDA_12C_2018112...</td>\n",
       "      <td>0</td>\n",
       "    </tr>\n",
       "    <tr>\n",
       "      <th>1</th>\n",
       "      <td>source:api,session:3ff627d3c29c1bb0f36bb9dcfb1...</td>\n",
       "      <td>task:T0,task_label:Do you see birds in this im...</td>\n",
       "      <td>54652421:retired:null,Filename:BDA_12C_2018112...</td>\n",
       "      <td>0</td>\n",
       "    </tr>\n",
       "    <tr>\n",
       "      <th>2</th>\n",
       "      <td>source:api,session:6b97d1dd59d7f200bbcd1579493...</td>\n",
       "      <td>task:T1,task_label:Draw a rectangle around eac...</td>\n",
       "      <td>54652440:retired:null,Filename:BDA_18A4_201811...</td>\n",
       "      <td>0</td>\n",
       "    </tr>\n",
       "    <tr>\n",
       "      <th>3</th>\n",
       "      <td>source:api,session:6a70be793547652e5bef12bead2...</td>\n",
       "      <td>task:T1,task_label:Draw a rectangle around eac...</td>\n",
       "      <td>54652428:retired:null,Filename:BDA_18A4_201811...</td>\n",
       "      <td>0</td>\n",
       "    </tr>\n",
       "    <tr>\n",
       "      <th>4</th>\n",
       "      <td>source:api,session:6a70be793547652e5bef12bead2...</td>\n",
       "      <td>task:T1,task_label:Draw a rectangle around eac...</td>\n",
       "      <td>54652440:retired:null,Filename:BDA_18A4_201811...</td>\n",
       "      <td>0</td>\n",
       "    </tr>\n",
       "  </tbody>\n",
       "</table>\n",
       "</div>"
      ],
      "text/plain": [
       "                                            metadata  \\\n",
       "0  source:api,session:15e8c6c801b72d6bfd7dc7d33b2...   \n",
       "1  source:api,session:3ff627d3c29c1bb0f36bb9dcfb1...   \n",
       "2  source:api,session:6b97d1dd59d7f200bbcd1579493...   \n",
       "3  source:api,session:6a70be793547652e5bef12bead2...   \n",
       "4  source:api,session:6a70be793547652e5bef12bead2...   \n",
       "\n",
       "                                         annotations  \\\n",
       "0  task:T0,task_label:Do you see birds in this im...   \n",
       "1  task:T0,task_label:Do you see birds in this im...   \n",
       "2  task:T1,task_label:Draw a rectangle around eac...   \n",
       "3  task:T1,task_label:Draw a rectangle around eac...   \n",
       "4  task:T1,task_label:Draw a rectangle around eac...   \n",
       "\n",
       "                                        subject_data  object_count  \n",
       "0  54652402:retired:null,Filename:BDA_12C_2018112...             0  \n",
       "1  54652421:retired:null,Filename:BDA_12C_2018112...             0  \n",
       "2  54652440:retired:null,Filename:BDA_18A4_201811...             0  \n",
       "3  54652428:retired:null,Filename:BDA_18A4_201811...             0  \n",
       "4  54652440:retired:null,Filename:BDA_18A4_201811...             0  "
      ]
     },
     "execution_count": 2,
     "metadata": {},
     "output_type": "execute_result"
    }
   ],
   "source": [
    "#read label file csv\n",
    "df = pd.read_csv(r'drones-for-ducks-classifications.csv')\n",
    "\n",
    "#remove unused columns\n",
    "df = df.iloc[: , 10:-1]\n",
    "\n",
    "#remove special charachters\n",
    "df = df.replace('\\{','', regex=True)\n",
    "\n",
    "df = df.replace('\\}','', regex=True)\n",
    "\n",
    "df = df.replace('\\\"','', regex=True)\n",
    "\n",
    "df = df.replace('\\]','', regex=True)\n",
    "\n",
    "df = df.replace('\\[','', regex=True)\n",
    "           \n",
    "df['object_count'] = 0\n",
    "\n",
    "df = df.replace('value:','value,', regex=True)\n",
    "\n",
    "df.head()"
   ]
  },
  {
   "cell_type": "code",
   "execution_count": 3,
   "id": "e3ca7ecf",
   "metadata": {},
   "outputs": [
    {
     "data": {
      "text/plain": [
       "219254"
      ]
     },
     "execution_count": 3,
     "metadata": {},
     "output_type": "execute_result"
    }
   ],
   "source": [
    "len(df)"
   ]
  },
  {
   "cell_type": "code",
   "execution_count": 4,
   "id": "ecfe740a",
   "metadata": {},
   "outputs": [
    {
     "name": "stderr",
     "output_type": "stream",
     "text": [
      "/var/folders/21/q9_tvtjj53n6mfprd_174cz00000gn/T/ipykernel_73991/1493662941.py:2: SettingWithCopyWarning: \n",
      "A value is trying to be set on a copy of a slice from a DataFrame\n",
      "\n",
      "See the caveats in the documentation: https://pandas.pydata.org/pandas-docs/stable/user_guide/indexing.html#returning-a-view-versus-a-copy\n",
      "  df['object_count'][i] = str(df['annotations'][i]).count('x:')\n"
     ]
    },
    {
     "data": {
      "text/plain": [
       "219251"
      ]
     },
     "execution_count": 4,
     "metadata": {},
     "output_type": "execute_result"
    }
   ],
   "source": [
    "for i in range(len(df)):\n",
    "  df['object_count'][i] = str(df['annotations'][i]).count('x:')\n",
    "\n",
    "df = df.dropna()\n",
    "len(df)"
   ]
  },
  {
   "cell_type": "code",
   "execution_count": 5,
   "id": "5e56c08f",
   "metadata": {},
   "outputs": [
    {
     "data": {
      "text/html": [
       "<div>\n",
       "<style scoped>\n",
       "    .dataframe tbody tr th:only-of-type {\n",
       "        vertical-align: middle;\n",
       "    }\n",
       "\n",
       "    .dataframe tbody tr th {\n",
       "        vertical-align: top;\n",
       "    }\n",
       "\n",
       "    .dataframe thead th {\n",
       "        text-align: right;\n",
       "    }\n",
       "</style>\n",
       "<table border=\"1\" class=\"dataframe\">\n",
       "  <thead>\n",
       "    <tr style=\"text-align: right;\">\n",
       "      <th></th>\n",
       "      <th>metadata</th>\n",
       "      <th>annotations</th>\n",
       "      <th>subject_data</th>\n",
       "      <th>object_count</th>\n",
       "    </tr>\n",
       "  </thead>\n",
       "  <tbody>\n",
       "    <tr>\n",
       "      <th>0</th>\n",
       "      <td>source:api,session:15e8c6c801b72d6bfd7dc7d33b2...</td>\n",
       "      <td>task:T0,task_label:Do you see birds in this im...</td>\n",
       "      <td>54652402:retired:null,Filename:BDA_12C_2018112...</td>\n",
       "      <td>15</td>\n",
       "    </tr>\n",
       "    <tr>\n",
       "      <th>1</th>\n",
       "      <td>source:api,session:3ff627d3c29c1bb0f36bb9dcfb1...</td>\n",
       "      <td>task:T0,task_label:Do you see birds in this im...</td>\n",
       "      <td>54652421:retired:null,Filename:BDA_12C_2018112...</td>\n",
       "      <td>3</td>\n",
       "    </tr>\n",
       "    <tr>\n",
       "      <th>2</th>\n",
       "      <td>source:api,session:6b97d1dd59d7f200bbcd1579493...</td>\n",
       "      <td>task:T1,task_label:Draw a rectangle around eac...</td>\n",
       "      <td>54652440:retired:null,Filename:BDA_18A4_201811...</td>\n",
       "      <td>0</td>\n",
       "    </tr>\n",
       "    <tr>\n",
       "      <th>3</th>\n",
       "      <td>source:api,session:6a70be793547652e5bef12bead2...</td>\n",
       "      <td>task:T1,task_label:Draw a rectangle around eac...</td>\n",
       "      <td>54652428:retired:null,Filename:BDA_18A4_201811...</td>\n",
       "      <td>44</td>\n",
       "    </tr>\n",
       "    <tr>\n",
       "      <th>4</th>\n",
       "      <td>source:api,session:6a70be793547652e5bef12bead2...</td>\n",
       "      <td>task:T1,task_label:Draw a rectangle around eac...</td>\n",
       "      <td>54652440:retired:null,Filename:BDA_18A4_201811...</td>\n",
       "      <td>44</td>\n",
       "    </tr>\n",
       "  </tbody>\n",
       "</table>\n",
       "</div>"
      ],
      "text/plain": [
       "                                            metadata  \\\n",
       "0  source:api,session:15e8c6c801b72d6bfd7dc7d33b2...   \n",
       "1  source:api,session:3ff627d3c29c1bb0f36bb9dcfb1...   \n",
       "2  source:api,session:6b97d1dd59d7f200bbcd1579493...   \n",
       "3  source:api,session:6a70be793547652e5bef12bead2...   \n",
       "4  source:api,session:6a70be793547652e5bef12bead2...   \n",
       "\n",
       "                                         annotations  \\\n",
       "0  task:T0,task_label:Do you see birds in this im...   \n",
       "1  task:T0,task_label:Do you see birds in this im...   \n",
       "2  task:T1,task_label:Draw a rectangle around eac...   \n",
       "3  task:T1,task_label:Draw a rectangle around eac...   \n",
       "4  task:T1,task_label:Draw a rectangle around eac...   \n",
       "\n",
       "                                        subject_data  object_count  \n",
       "0  54652402:retired:null,Filename:BDA_12C_2018112...            15  \n",
       "1  54652421:retired:null,Filename:BDA_12C_2018112...             3  \n",
       "2  54652440:retired:null,Filename:BDA_18A4_201811...             0  \n",
       "3  54652428:retired:null,Filename:BDA_18A4_201811...            44  \n",
       "4  54652440:retired:null,Filename:BDA_18A4_201811...            44  "
      ]
     },
     "execution_count": 5,
     "metadata": {},
     "output_type": "execute_result"
    }
   ],
   "source": [
    "df.head()"
   ]
  },
  {
   "cell_type": "code",
   "execution_count": null,
   "id": "e9d12ffa",
   "metadata": {},
   "outputs": [],
   "source": [
    "labels = pd.DataFrame()\n",
    "\n",
    "for i in range(len(df)):\n",
    "  imW = df.iloc[i][0].split('naturalWidth:')[-1].split(',')[0]\n",
    "  imH = df.iloc[i][0].split('naturalHeight:')[-1].split(',')[0]\n",
    "  file_name = df.iloc[i][2].split('Filename:')[-1].split('.')[0]\n",
    "  annotation = df.iloc[i][1].split('value')[-2].split('x:')\n",
    "  annotation.pop(0)\n",
    "\n",
    "  for j in range(len(annotation)):\n",
    "    #x = (float(annotation[j].split(',')[0]) + (float(annotation[j].split('width:')[-1].split(',')[0])/2))/float(imW)\n",
    "    #y = (float(annotation[j].split('y:')[-1].split(',')[0]) + (float(annotation[j].split('height:')[-1].split(',')[0])/2))/float(imH)\n",
    "    #w = float(annotation[j].split('width:')[-1].split(',')[0])/float(imW)\n",
    "    #h = float(annotation[j].split('height:')[-1].split(',')[0])/float(imH)\n",
    "    label = annotation[j].split('tool_label:')[-1].split(',')[0]\n",
    "    row = {'FileName': file_name , 'Label': label}\n",
    "    labels = labels.append(row,ignore_index = True)\n",
    "  #print(i)"
   ]
  },
  {
   "cell_type": "code",
   "execution_count": null,
   "id": "67a03c1a",
   "metadata": {},
   "outputs": [],
   "source": [
    "len(labels)"
   ]
  },
  {
   "cell_type": "code",
   "execution_count": null,
   "id": "df7cc66d",
   "metadata": {},
   "outputs": [],
   "source": [
    "labels = labels.reindex(['FileName','Label'], axis=1)\n",
    "\n",
    "di = {'Canada Goose (*Branta canadensis*)': 'Goose', 'Mallard Duck (*Anas platyrhynchos*)': 'Duck', 'Sandhill Crane (*Grus canadensis*)': 'Crane'}\n",
    "labels = labels.replace(di)\n",
    "\n",
    "files = labels.FileName.unique()"
   ]
  }
 ],
 "metadata": {
  "kernelspec": {
   "display_name": "Python 3.8.13 ('dronesforducks')",
   "language": "python",
   "name": "python3"
  },
  "language_info": {
   "codemirror_mode": {
    "name": "ipython",
    "version": 3
   },
   "file_extension": ".py",
   "mimetype": "text/x-python",
   "name": "python",
   "nbconvert_exporter": "python",
   "pygments_lexer": "ipython3",
   "version": "3.8.13"
  },
  "vscode": {
   "interpreter": {
    "hash": "81ebe24ea7fba4c93a70a528aa242eb24818c23cab309b05768b37e0a698879f"
   }
  }
 },
 "nbformat": 4,
 "nbformat_minor": 5
}
