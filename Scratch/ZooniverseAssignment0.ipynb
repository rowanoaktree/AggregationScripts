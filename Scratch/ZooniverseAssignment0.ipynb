{
 "cells": [
  {
   "cell_type": "code",
   "execution_count": 1,
   "id": "ab336694",
   "metadata": {},
   "outputs": [],
   "source": [
    "import pandas as pd\n",
    "import numpy as np\n",
    "import matplotlib.pyplot as plt"
   ]
  },
  {
   "cell_type": "code",
   "execution_count": 2,
   "id": "a60be8ba",
   "metadata": {},
   "outputs": [
    {
     "name": "stderr",
     "output_type": "stream",
     "text": [
      "/Users/rowanconverse/opt/anaconda3/lib/python3.9/site-packages/IPython/core/interactiveshell.py:3444: DtypeWarning: Columns (0) have mixed types.Specify dtype option on import or set low_memory=False.\n",
      "  exec(code_obj, self.user_global_ns, self.user_ns)\n"
     ]
    },
    {
     "data": {
      "text/html": [
       "<div>\n",
       "<style scoped>\n",
       "    .dataframe tbody tr th:only-of-type {\n",
       "        vertical-align: middle;\n",
       "    }\n",
       "\n",
       "    .dataframe tbody tr th {\n",
       "        vertical-align: top;\n",
       "    }\n",
       "\n",
       "    .dataframe thead th {\n",
       "        text-align: right;\n",
       "    }\n",
       "</style>\n",
       "<table border=\"1\" class=\"dataframe\">\n",
       "  <thead>\n",
       "    <tr style=\"text-align: right;\">\n",
       "      <th></th>\n",
       "      <th>metadata</th>\n",
       "      <th>annotations</th>\n",
       "      <th>subject_data</th>\n",
       "      <th>object_count</th>\n",
       "    </tr>\n",
       "  </thead>\n",
       "  <tbody>\n",
       "    <tr>\n",
       "      <th>0</th>\n",
       "      <td>source:api,session:15e8c6c801b72d6bfd7dc7d33b2...</td>\n",
       "      <td>task:T0,task_label:Do you see birds in this im...</td>\n",
       "      <td>54652402:retired:null,Filename:BDA_12C_2018112...</td>\n",
       "      <td>0</td>\n",
       "    </tr>\n",
       "    <tr>\n",
       "      <th>1</th>\n",
       "      <td>source:api,session:3ff627d3c29c1bb0f36bb9dcfb1...</td>\n",
       "      <td>task:T0,task_label:Do you see birds in this im...</td>\n",
       "      <td>54652421:retired:null,Filename:BDA_12C_2018112...</td>\n",
       "      <td>0</td>\n",
       "    </tr>\n",
       "    <tr>\n",
       "      <th>2</th>\n",
       "      <td>source:api,session:6b97d1dd59d7f200bbcd1579493...</td>\n",
       "      <td>task:T1,task_label:Draw a rectangle around eac...</td>\n",
       "      <td>54652440:retired:null,Filename:BDA_18A4_201811...</td>\n",
       "      <td>0</td>\n",
       "    </tr>\n",
       "    <tr>\n",
       "      <th>3</th>\n",
       "      <td>source:api,session:6a70be793547652e5bef12bead2...</td>\n",
       "      <td>task:T1,task_label:Draw a rectangle around eac...</td>\n",
       "      <td>54652428:retired:null,Filename:BDA_18A4_201811...</td>\n",
       "      <td>0</td>\n",
       "    </tr>\n",
       "    <tr>\n",
       "      <th>4</th>\n",
       "      <td>source:api,session:6a70be793547652e5bef12bead2...</td>\n",
       "      <td>task:T1,task_label:Draw a rectangle around eac...</td>\n",
       "      <td>54652440:retired:null,Filename:BDA_18A4_201811...</td>\n",
       "      <td>0</td>\n",
       "    </tr>\n",
       "  </tbody>\n",
       "</table>\n",
       "</div>"
      ],
      "text/plain": [
       "                                            metadata  \\\n",
       "0  source:api,session:15e8c6c801b72d6bfd7dc7d33b2...   \n",
       "1  source:api,session:3ff627d3c29c1bb0f36bb9dcfb1...   \n",
       "2  source:api,session:6b97d1dd59d7f200bbcd1579493...   \n",
       "3  source:api,session:6a70be793547652e5bef12bead2...   \n",
       "4  source:api,session:6a70be793547652e5bef12bead2...   \n",
       "\n",
       "                                         annotations  \\\n",
       "0  task:T0,task_label:Do you see birds in this im...   \n",
       "1  task:T0,task_label:Do you see birds in this im...   \n",
       "2  task:T1,task_label:Draw a rectangle around eac...   \n",
       "3  task:T1,task_label:Draw a rectangle around eac...   \n",
       "4  task:T1,task_label:Draw a rectangle around eac...   \n",
       "\n",
       "                                        subject_data  object_count  \n",
       "0  54652402:retired:null,Filename:BDA_12C_2018112...             0  \n",
       "1  54652421:retired:null,Filename:BDA_12C_2018112...             0  \n",
       "2  54652440:retired:null,Filename:BDA_18A4_201811...             0  \n",
       "3  54652428:retired:null,Filename:BDA_18A4_201811...             0  \n",
       "4  54652440:retired:null,Filename:BDA_18A4_201811...             0  "
      ]
     },
     "execution_count": 2,
     "metadata": {},
     "output_type": "execute_result"
    }
   ],
   "source": [
    "#read label file csv\n",
    "df = pd.read_csv(r'drones-for-ducks-classifications.csv')\n",
    "\n",
    "#remove unused columns\n",
    "df = df.iloc[: , 10:-1]\n",
    "\n",
    "#remove special characters\n",
    "df = df.replace('\\{','', regex=True)\n",
    "df = df.replace('\\}','', regex=True)\n",
    "df = df.replace('\\\"','', regex=True)\n",
    "df = df.replace('\\]','', regex=True)\n",
    "df = df.replace('\\[','', regex=True)\n",
    "           \n",
    "df['object_count'] = 0\n",
    "df = df.replace('value:','value,', regex=True)\n",
    "\n",
    "df.head()"
   ]
  },
  {
   "cell_type": "code",
   "execution_count": 3,
   "id": "1b159ac2",
   "metadata": {},
   "outputs": [
    {
     "data": {
      "text/plain": [
       "219254"
      ]
     },
     "execution_count": 3,
     "metadata": {},
     "output_type": "execute_result"
    }
   ],
   "source": [
    "len(df)"
   ]
  },
  {
   "cell_type": "code",
   "execution_count": 4,
   "id": "ff76363c",
   "metadata": {},
   "outputs": [
    {
     "name": "stderr",
     "output_type": "stream",
     "text": [
      "/var/folders/21/q9_tvtjj53n6mfprd_174cz00000gn/T/ipykernel_8212/2952231697.py:2: SettingWithCopyWarning: \n",
      "A value is trying to be set on a copy of a slice from a DataFrame\n",
      "\n",
      "See the caveats in the documentation: https://pandas.pydata.org/pandas-docs/stable/user_guide/indexing.html#returning-a-view-versus-a-copy\n",
      "  df['object_count'][i] = str(df['annotations'][i]).count('x:')\n"
     ]
    },
    {
     "data": {
      "text/plain": [
       "219251"
      ]
     },
     "execution_count": 4,
     "metadata": {},
     "output_type": "execute_result"
    }
   ],
   "source": [
    "for i in range(len(df)):\n",
    "  df['object_count'][i] = str(df['annotations'][i]).count('x:')\n",
    "\n",
    "df = df.dropna()\n",
    "\n",
    "len(df)"
   ]
  },
  {
   "cell_type": "code",
   "execution_count": 6,
   "id": "d9aa65a1",
   "metadata": {},
   "outputs": [
    {
     "data": {
      "text/html": [
       "<div>\n",
       "<style scoped>\n",
       "    .dataframe tbody tr th:only-of-type {\n",
       "        vertical-align: middle;\n",
       "    }\n",
       "\n",
       "    .dataframe tbody tr th {\n",
       "        vertical-align: top;\n",
       "    }\n",
       "\n",
       "    .dataframe thead th {\n",
       "        text-align: right;\n",
       "    }\n",
       "</style>\n",
       "<table border=\"1\" class=\"dataframe\">\n",
       "  <thead>\n",
       "    <tr style=\"text-align: right;\">\n",
       "      <th></th>\n",
       "      <th>metadata</th>\n",
       "      <th>annotations</th>\n",
       "      <th>subject_data</th>\n",
       "      <th>object_count</th>\n",
       "    </tr>\n",
       "  </thead>\n",
       "  <tbody>\n",
       "    <tr>\n",
       "      <th>0</th>\n",
       "      <td>source:api,session:15e8c6c801b72d6bfd7dc7d33b2...</td>\n",
       "      <td>task:T0,task_label:Do you see birds in this im...</td>\n",
       "      <td>54652402:retired:null,Filename:BDA_12C_2018112...</td>\n",
       "      <td>15</td>\n",
       "    </tr>\n",
       "    <tr>\n",
       "      <th>1</th>\n",
       "      <td>source:api,session:3ff627d3c29c1bb0f36bb9dcfb1...</td>\n",
       "      <td>task:T0,task_label:Do you see birds in this im...</td>\n",
       "      <td>54652421:retired:null,Filename:BDA_12C_2018112...</td>\n",
       "      <td>3</td>\n",
       "    </tr>\n",
       "    <tr>\n",
       "      <th>3</th>\n",
       "      <td>source:api,session:6a70be793547652e5bef12bead2...</td>\n",
       "      <td>task:T1,task_label:Draw a rectangle around eac...</td>\n",
       "      <td>54652428:retired:null,Filename:BDA_18A4_201811...</td>\n",
       "      <td>44</td>\n",
       "    </tr>\n",
       "    <tr>\n",
       "      <th>4</th>\n",
       "      <td>source:api,session:6a70be793547652e5bef12bead2...</td>\n",
       "      <td>task:T1,task_label:Draw a rectangle around eac...</td>\n",
       "      <td>54652440:retired:null,Filename:BDA_18A4_201811...</td>\n",
       "      <td>44</td>\n",
       "    </tr>\n",
       "    <tr>\n",
       "      <th>5</th>\n",
       "      <td>source:api,session:6a70be793547652e5bef12bead2...</td>\n",
       "      <td>task:T1,task_label:Draw a rectangle around eac...</td>\n",
       "      <td>54652421:retired:null,Filename:BDA_12C_2018112...</td>\n",
       "      <td>51</td>\n",
       "    </tr>\n",
       "  </tbody>\n",
       "</table>\n",
       "</div>"
      ],
      "text/plain": [
       "                                            metadata  \\\n",
       "0  source:api,session:15e8c6c801b72d6bfd7dc7d33b2...   \n",
       "1  source:api,session:3ff627d3c29c1bb0f36bb9dcfb1...   \n",
       "3  source:api,session:6a70be793547652e5bef12bead2...   \n",
       "4  source:api,session:6a70be793547652e5bef12bead2...   \n",
       "5  source:api,session:6a70be793547652e5bef12bead2...   \n",
       "\n",
       "                                         annotations  \\\n",
       "0  task:T0,task_label:Do you see birds in this im...   \n",
       "1  task:T0,task_label:Do you see birds in this im...   \n",
       "3  task:T1,task_label:Draw a rectangle around eac...   \n",
       "4  task:T1,task_label:Draw a rectangle around eac...   \n",
       "5  task:T1,task_label:Draw a rectangle around eac...   \n",
       "\n",
       "                                        subject_data  object_count  \n",
       "0  54652402:retired:null,Filename:BDA_12C_2018112...            15  \n",
       "1  54652421:retired:null,Filename:BDA_12C_2018112...             3  \n",
       "3  54652428:retired:null,Filename:BDA_18A4_201811...            44  \n",
       "4  54652440:retired:null,Filename:BDA_18A4_201811...            44  \n",
       "5  54652421:retired:null,Filename:BDA_12C_2018112...            51  "
      ]
     },
     "execution_count": 6,
     "metadata": {},
     "output_type": "execute_result"
    }
   ],
   "source": [
    "ndf = df.query('object_count != 0')\n",
    "ndf.head()"
   ]
  },
  {
   "cell_type": "code",
   "execution_count": 7,
   "id": "822d797b",
   "metadata": {},
   "outputs": [
    {
     "ename": "IndexError",
     "evalue": "single positional indexer is out-of-bounds",
     "output_type": "error",
     "traceback": [
      "\u001b[0;31m---------------------------------------------------------------------------\u001b[0m",
      "\u001b[0;31mIndexError\u001b[0m                                Traceback (most recent call last)",
      "\u001b[0;32m/var/folders/21/q9_tvtjj53n6mfprd_174cz00000gn/T/ipykernel_8212/4226633203.py\u001b[0m in \u001b[0;36m<module>\u001b[0;34m\u001b[0m\n\u001b[1;32m      2\u001b[0m \u001b[0mnew\u001b[0m \u001b[0;34m=\u001b[0m \u001b[0mndf\u001b[0m\u001b[0;34m.\u001b[0m\u001b[0mhead\u001b[0m\u001b[0;34m(\u001b[0m\u001b[0;36m60\u001b[0m\u001b[0;34m)\u001b[0m\u001b[0;34m\u001b[0m\u001b[0;34m\u001b[0m\u001b[0m\n\u001b[1;32m      3\u001b[0m \u001b[0;31m#new.metadata\u001b[0m\u001b[0;34m\u001b[0m\u001b[0;34m\u001b[0m\u001b[0m\n\u001b[0;32m----> 4\u001b[0;31m \u001b[0mnew\u001b[0m \u001b[0;34m=\u001b[0m \u001b[0mnew\u001b[0m\u001b[0;34m.\u001b[0m\u001b[0mdrop\u001b[0m\u001b[0;34m(\u001b[0m\u001b[0mnew\u001b[0m\u001b[0;34m[\u001b[0m\u001b[0mnew\u001b[0m\u001b[0;34m.\u001b[0m\u001b[0miloc\u001b[0m\u001b[0;34m[\u001b[0m\u001b[0mi\u001b[0m\u001b[0;34m]\u001b[0m\u001b[0;34m[\u001b[0m\u001b[0;36m0\u001b[0m\u001b[0;34m]\u001b[0m\u001b[0;34m.\u001b[0m\u001b[0msplit\u001b[0m\u001b[0;34m(\u001b[0m\u001b[0;34m'naturalWidth:'\u001b[0m\u001b[0;34m)\u001b[0m\u001b[0;34m[\u001b[0m\u001b[0;34m-\u001b[0m\u001b[0;36m1\u001b[0m\u001b[0;34m]\u001b[0m\u001b[0;34m.\u001b[0m\u001b[0msplit\u001b[0m\u001b[0;34m(\u001b[0m\u001b[0;34m','\u001b[0m\u001b[0;34m)\u001b[0m\u001b[0;34m[\u001b[0m\u001b[0;36m0\u001b[0m\u001b[0;34m]\u001b[0m\u001b[0;34m.\u001b[0m\u001b[0misdigit\u001b[0m\u001b[0;34m(\u001b[0m\u001b[0;34m)\u001b[0m\u001b[0;34m==\u001b[0m\u001b[0;32mFalse\u001b[0m\u001b[0;34m]\u001b[0m\u001b[0;34m.\u001b[0m\u001b[0mindex\u001b[0m\u001b[0;34m)\u001b[0m\u001b[0;34m\u001b[0m\u001b[0;34m\u001b[0m\u001b[0m\n\u001b[0m\u001b[1;32m      5\u001b[0m \u001b[0;31m#for i in range(len(new)):\u001b[0m\u001b[0;34m\u001b[0m\u001b[0;34m\u001b[0m\u001b[0m\n\u001b[1;32m      6\u001b[0m \u001b[0;31m#    if new.iloc[i][0].split('naturalWidth:')[-1].split(',')[0].isdigit() == False:\u001b[0m\u001b[0;34m\u001b[0m\u001b[0;34m\u001b[0m\u001b[0m\n",
      "\u001b[0;32m~/opt/anaconda3/lib/python3.9/site-packages/pandas/core/indexing.py\u001b[0m in \u001b[0;36m__getitem__\u001b[0;34m(self, key)\u001b[0m\n\u001b[1;32m    929\u001b[0m \u001b[0;34m\u001b[0m\u001b[0m\n\u001b[1;32m    930\u001b[0m             \u001b[0mmaybe_callable\u001b[0m \u001b[0;34m=\u001b[0m \u001b[0mcom\u001b[0m\u001b[0;34m.\u001b[0m\u001b[0mapply_if_callable\u001b[0m\u001b[0;34m(\u001b[0m\u001b[0mkey\u001b[0m\u001b[0;34m,\u001b[0m \u001b[0mself\u001b[0m\u001b[0;34m.\u001b[0m\u001b[0mobj\u001b[0m\u001b[0;34m)\u001b[0m\u001b[0;34m\u001b[0m\u001b[0;34m\u001b[0m\u001b[0m\n\u001b[0;32m--> 931\u001b[0;31m             \u001b[0;32mreturn\u001b[0m \u001b[0mself\u001b[0m\u001b[0;34m.\u001b[0m\u001b[0m_getitem_axis\u001b[0m\u001b[0;34m(\u001b[0m\u001b[0mmaybe_callable\u001b[0m\u001b[0;34m,\u001b[0m \u001b[0maxis\u001b[0m\u001b[0;34m=\u001b[0m\u001b[0maxis\u001b[0m\u001b[0;34m)\u001b[0m\u001b[0;34m\u001b[0m\u001b[0;34m\u001b[0m\u001b[0m\n\u001b[0m\u001b[1;32m    932\u001b[0m \u001b[0;34m\u001b[0m\u001b[0m\n\u001b[1;32m    933\u001b[0m     \u001b[0;32mdef\u001b[0m \u001b[0m_is_scalar_access\u001b[0m\u001b[0;34m(\u001b[0m\u001b[0mself\u001b[0m\u001b[0;34m,\u001b[0m \u001b[0mkey\u001b[0m\u001b[0;34m:\u001b[0m \u001b[0mtuple\u001b[0m\u001b[0;34m)\u001b[0m\u001b[0;34m:\u001b[0m\u001b[0;34m\u001b[0m\u001b[0;34m\u001b[0m\u001b[0m\n",
      "\u001b[0;32m~/opt/anaconda3/lib/python3.9/site-packages/pandas/core/indexing.py\u001b[0m in \u001b[0;36m_getitem_axis\u001b[0;34m(self, key, axis)\u001b[0m\n\u001b[1;32m   1564\u001b[0m \u001b[0;34m\u001b[0m\u001b[0m\n\u001b[1;32m   1565\u001b[0m             \u001b[0;31m# validate the location\u001b[0m\u001b[0;34m\u001b[0m\u001b[0;34m\u001b[0m\u001b[0m\n\u001b[0;32m-> 1566\u001b[0;31m             \u001b[0mself\u001b[0m\u001b[0;34m.\u001b[0m\u001b[0m_validate_integer\u001b[0m\u001b[0;34m(\u001b[0m\u001b[0mkey\u001b[0m\u001b[0;34m,\u001b[0m \u001b[0maxis\u001b[0m\u001b[0;34m)\u001b[0m\u001b[0;34m\u001b[0m\u001b[0;34m\u001b[0m\u001b[0m\n\u001b[0m\u001b[1;32m   1567\u001b[0m \u001b[0;34m\u001b[0m\u001b[0m\n\u001b[1;32m   1568\u001b[0m             \u001b[0;32mreturn\u001b[0m \u001b[0mself\u001b[0m\u001b[0;34m.\u001b[0m\u001b[0mobj\u001b[0m\u001b[0;34m.\u001b[0m\u001b[0m_ixs\u001b[0m\u001b[0;34m(\u001b[0m\u001b[0mkey\u001b[0m\u001b[0;34m,\u001b[0m \u001b[0maxis\u001b[0m\u001b[0;34m=\u001b[0m\u001b[0maxis\u001b[0m\u001b[0;34m)\u001b[0m\u001b[0;34m\u001b[0m\u001b[0;34m\u001b[0m\u001b[0m\n",
      "\u001b[0;32m~/opt/anaconda3/lib/python3.9/site-packages/pandas/core/indexing.py\u001b[0m in \u001b[0;36m_validate_integer\u001b[0;34m(self, key, axis)\u001b[0m\n\u001b[1;32m   1498\u001b[0m         \u001b[0mlen_axis\u001b[0m \u001b[0;34m=\u001b[0m \u001b[0mlen\u001b[0m\u001b[0;34m(\u001b[0m\u001b[0mself\u001b[0m\u001b[0;34m.\u001b[0m\u001b[0mobj\u001b[0m\u001b[0;34m.\u001b[0m\u001b[0m_get_axis\u001b[0m\u001b[0;34m(\u001b[0m\u001b[0maxis\u001b[0m\u001b[0;34m)\u001b[0m\u001b[0;34m)\u001b[0m\u001b[0;34m\u001b[0m\u001b[0;34m\u001b[0m\u001b[0m\n\u001b[1;32m   1499\u001b[0m         \u001b[0;32mif\u001b[0m \u001b[0mkey\u001b[0m \u001b[0;34m>=\u001b[0m \u001b[0mlen_axis\u001b[0m \u001b[0;32mor\u001b[0m \u001b[0mkey\u001b[0m \u001b[0;34m<\u001b[0m \u001b[0;34m-\u001b[0m\u001b[0mlen_axis\u001b[0m\u001b[0;34m:\u001b[0m\u001b[0;34m\u001b[0m\u001b[0;34m\u001b[0m\u001b[0m\n\u001b[0;32m-> 1500\u001b[0;31m             \u001b[0;32mraise\u001b[0m \u001b[0mIndexError\u001b[0m\u001b[0;34m(\u001b[0m\u001b[0;34m\"single positional indexer is out-of-bounds\"\u001b[0m\u001b[0;34m)\u001b[0m\u001b[0;34m\u001b[0m\u001b[0;34m\u001b[0m\u001b[0m\n\u001b[0m\u001b[1;32m   1501\u001b[0m \u001b[0;34m\u001b[0m\u001b[0m\n\u001b[1;32m   1502\u001b[0m     \u001b[0;31m# -------------------------------------------------------------------\u001b[0m\u001b[0;34m\u001b[0m\u001b[0;34m\u001b[0m\u001b[0m\n",
      "\u001b[0;31mIndexError\u001b[0m: single positional indexer is out-of-bounds"
     ]
    }
   ],
   "source": [
    "#write lines here to remove \"metadata / subject dimensions / null data\"\n",
    "new = ndf.head(60)\n",
    "#new.metadata\n",
    "new = new.drop(new[new.iloc[i][0].split('naturalWidth:')[-1].split(',')[0].isdigit()==False].index)\n",
    "#for i in range(len(new)):\n",
    "#    if new.iloc[i][0].split('naturalWidth:')[-1].split(',')[0].isdigit() == False:\n",
    "#        new.drop(new.index[i], inplace=True )\n",
    "len(new)"
   ]
  },
  {
   "cell_type": "code",
   "execution_count": 8,
   "id": "0c8e217d",
   "metadata": {},
   "outputs": [
    {
     "data": {
      "text/plain": [
       "'source:api,session:f7969bbcbaafcfa87a511ca51d0306a3f742c77c38e453560e81dd58b8bf207c,viewport:width:1920,height:935,started_at:2021-03-30T12:18:38.735Z,user_agent:Mozilla/5.0 (Windows NT 10.0; Win64; x64) AppleWebKit/537.36 (KHTML, like Gecko) Chrome/89.0.4389.105 Safari/537.36,utc_offset:-3600,finished_at:2021-03-30T12:18:41.462Z,live_project:true,interventions:opt_in:false,messageShown:false,user_language:en,subject_dimensions:null,subject_selection_state:retired:false,selected_at:2021-03-30T12:00:51.087Z,already_seen:false,selection_state:normal,finished_workflow:false,user_has_finished_workflow:false,workflow_translation_id:41322'"
      ]
     },
     "execution_count": 8,
     "metadata": {},
     "output_type": "execute_result"
    }
   ],
   "source": [
    "#new = df.head(60)\n",
    "#new.iloc[56][0].split('naturalWidth:')[-1].split(',')[0]\n",
    "new.iloc[49,0]\n",
    "#figured out the error-- in the blob containing the subject dimensions info, the line throwing an error has them as \"null\".\n",
    "#Need to write a line that will discard a line with null data in this area in a prior step (see above)"
   ]
  },
  {
   "cell_type": "code",
   "execution_count": 18,
   "id": "82e9e4db",
   "metadata": {},
   "outputs": [
    {
     "name": "stdout",
     "output_type": "stream",
     "text": [
      "0\n",
      "1\n",
      "2\n",
      "3\n",
      "4\n",
      "5\n",
      "6\n",
      "7\n",
      "8\n",
      "9\n",
      "10\n",
      "11\n",
      "12\n",
      "13\n",
      "14\n",
      "15\n",
      "16\n",
      "17\n",
      "18\n",
      "19\n",
      "20\n",
      "21\n",
      "22\n",
      "23\n",
      "24\n",
      "25\n",
      "26\n",
      "27\n",
      "28\n",
      "29\n",
      "30\n",
      "31\n",
      "32\n",
      "33\n",
      "34\n",
      "35\n",
      "36\n",
      "37\n",
      "38\n",
      "39\n"
     ]
    }
   ],
   "source": [
    "sublabels = pd.DataFrame()\n",
    "\n",
    "for i in range(len(new)):\n",
    "  imW = new.iloc[i][0].split('naturalWidth:')[-1].split(',')[0]\n",
    "  imH = new.iloc[i][0].split('naturalHeight:')[-1].split(',')[0]\n",
    "  file_name = new.iloc[i][2].split('Filename:')[-1].split('.')[0]\n",
    "  annotation = new.iloc[i][1].split('value')[-2].split('x:')\n",
    "  annotation.pop(0)\n",
    "\n",
    "  for j in range(len(annotation)):\n",
    "    x = (float(annotation[j].split(',')[0]) + (float(annotation[j].split('width:')[-1].split(',')[0])/2))/float(imW)\n",
    "    y = (float(annotation[j].split('y:')[-1].split(',')[0]) + (float(annotation[j].split('height:')[-1].split(',')[0])/2))/float(imH)\n",
    "    w = float(annotation[j].split('width:')[-1].split(',')[0])/float(imW)\n",
    "    h = float(annotation[j].split('height:')[-1].split(',')[0])/float(imH)\n",
    "    label = annotation[j].split('tool_label:')[-1].split(',')[0]\n",
    "    row = {'FileName': file_name , 'X': x  , 'Y': y , 'Width': w , 'Height': h , 'Label': label}\n",
    "    sublabels = sublabels.append(row,ignore_index = True)\n",
    "  print(i)"
   ]
  },
  {
   "cell_type": "code",
   "execution_count": 19,
   "id": "08925239",
   "metadata": {},
   "outputs": [
    {
     "data": {
      "text/html": [
       "<div>\n",
       "<style scoped>\n",
       "    .dataframe tbody tr th:only-of-type {\n",
       "        vertical-align: middle;\n",
       "    }\n",
       "\n",
       "    .dataframe tbody tr th {\n",
       "        vertical-align: top;\n",
       "    }\n",
       "\n",
       "    .dataframe thead th {\n",
       "        text-align: right;\n",
       "    }\n",
       "</style>\n",
       "<table border=\"1\" class=\"dataframe\">\n",
       "  <thead>\n",
       "    <tr style=\"text-align: right;\">\n",
       "      <th></th>\n",
       "      <th>FileName</th>\n",
       "      <th>X</th>\n",
       "      <th>Y</th>\n",
       "      <th>Width</th>\n",
       "      <th>Height</th>\n",
       "      <th>Label</th>\n",
       "    </tr>\n",
       "  </thead>\n",
       "  <tbody>\n",
       "    <tr>\n",
       "      <th>0</th>\n",
       "      <td>BDA_18A4_20181106_1 copy</td>\n",
       "      <td>0.460567</td>\n",
       "      <td>0.393007</td>\n",
       "      <td>0.031016</td>\n",
       "      <td>0.036001</td>\n",
       "      <td>Duck</td>\n",
       "    </tr>\n",
       "    <tr>\n",
       "      <th>1</th>\n",
       "      <td>BDA_18A4_20181106_1 copy</td>\n",
       "      <td>0.532713</td>\n",
       "      <td>0.248186</td>\n",
       "      <td>0.037759</td>\n",
       "      <td>0.031091</td>\n",
       "      <td>Duck</td>\n",
       "    </tr>\n",
       "    <tr>\n",
       "      <th>2</th>\n",
       "      <td>BDA_18A4_20181106_1 copy</td>\n",
       "      <td>0.433596</td>\n",
       "      <td>0.262096</td>\n",
       "      <td>0.036410</td>\n",
       "      <td>0.022910</td>\n",
       "      <td>Duck</td>\n",
       "    </tr>\n",
       "    <tr>\n",
       "      <th>3</th>\n",
       "      <td>BDA_18A4_20181106_1 copy</td>\n",
       "      <td>0.184792</td>\n",
       "      <td>0.290733</td>\n",
       "      <td>0.037759</td>\n",
       "      <td>0.034364</td>\n",
       "      <td>Duck</td>\n",
       "    </tr>\n",
       "    <tr>\n",
       "      <th>4</th>\n",
       "      <td>BDA_18A4_20181106_1 copy</td>\n",
       "      <td>0.256264</td>\n",
       "      <td>0.109911</td>\n",
       "      <td>0.032365</td>\n",
       "      <td>0.036001</td>\n",
       "      <td>Duck</td>\n",
       "    </tr>\n",
       "  </tbody>\n",
       "</table>\n",
       "</div>"
      ],
      "text/plain": [
       "                   FileName         X         Y     Width    Height Label\n",
       "0  BDA_18A4_20181106_1 copy  0.460567  0.393007  0.031016  0.036001  Duck\n",
       "1  BDA_18A4_20181106_1 copy  0.532713  0.248186  0.037759  0.031091  Duck\n",
       "2  BDA_18A4_20181106_1 copy  0.433596  0.262096  0.036410  0.022910  Duck\n",
       "3  BDA_18A4_20181106_1 copy  0.184792  0.290733  0.037759  0.034364  Duck\n",
       "4  BDA_18A4_20181106_1 copy  0.256264  0.109911  0.032365  0.036001  Duck"
      ]
     },
     "execution_count": 19,
     "metadata": {},
     "output_type": "execute_result"
    }
   ],
   "source": [
    "sublabels.head()"
   ]
  },
  {
   "cell_type": "code",
   "execution_count": 13,
   "id": "7fbd629c",
   "metadata": {},
   "outputs": [
    {
     "data": {
      "text/html": [
       "<div>\n",
       "<style scoped>\n",
       "    .dataframe tbody tr th:only-of-type {\n",
       "        vertical-align: middle;\n",
       "    }\n",
       "\n",
       "    .dataframe tbody tr th {\n",
       "        vertical-align: top;\n",
       "    }\n",
       "\n",
       "    .dataframe thead th {\n",
       "        text-align: right;\n",
       "    }\n",
       "</style>\n",
       "<table border=\"1\" class=\"dataframe\">\n",
       "  <thead>\n",
       "    <tr style=\"text-align: right;\">\n",
       "      <th></th>\n",
       "      <th>FileName</th>\n",
       "      <th>Label</th>\n",
       "    </tr>\n",
       "  </thead>\n",
       "  <tbody>\n",
       "  </tbody>\n",
       "</table>\n",
       "</div>"
      ],
      "text/plain": [
       "Empty DataFrame\n",
       "Columns: [FileName, Label]\n",
       "Index: []"
      ]
     },
     "execution_count": 13,
     "metadata": {},
     "output_type": "execute_result"
    }
   ],
   "source": [
    "sublabels = sublabels.reindex(['FileName','Label','X','Y','Width','Height'], axis=1)\n",
    "sublabels.head()"
   ]
  },
  {
   "cell_type": "code",
   "execution_count": null,
   "id": "89933166",
   "metadata": {},
   "outputs": [],
   "source": [
    "#cleaning label categories; some species-specific data is mixed in from a beta test \n",
    "di = {'Canada Goose (*Branta canadensis*)': 'Goose', 'Mallard Duck (*Anas platyrhynchos*)': 'Duck', 'Sandhill Crane (*Grus canadensis*)': 'Crane', 'Blue-Winged Teal (*Anas discors*)': 'Duck', 'American Widgeon (*Mareca americana*)': 'Duck','Northern Pintail (*Anas acuta*)': 'Duck', 'Northern Shoveler (*Spatula clypeata*)': \"Duck\", 'Kittiwakes': 'Duck', 'Guillemots': 'Duck'}\n",
    "labels = labels.replace(di)"
   ]
  },
  {
   "cell_type": "code",
   "execution_count": null,
   "id": "05fd33cf",
   "metadata": {},
   "outputs": [],
   "source": [
    "#Original image name from tile name\n",
    "labels[\"Original\"] = labels['FileName'].str[:-5]\n",
    "labels[\"Original\"] = labels[\"Original\"].str.rstrip(\"_\")"
   ]
  },
  {
   "cell_type": "code",
   "execution_count": null,
   "id": "9cd917c8",
   "metadata": {},
   "outputs": [],
   "source": [
    "#Management units from image names\n",
    "for i in range(len(labels)):\n",
    "    labels[\"Unit\"][i] = labels.iloc[i][2].split(\"_\")[1].lower()"
   ]
  },
  {
   "cell_type": "code",
   "execution_count": null,
   "id": "a050303a",
   "metadata": {},
   "outputs": [],
   "source": [
    "#Empty images\n",
    "empty = df.loc[df['object_count'] == 0]\n",
    "zeros = pd.DataFrame()\n",
    "for i in range(len(df)):\n",
    "    file_name = empty.iloc[i][2].split('Filename:')[-1].split('.')[0]\n",
    "    for j in range(len(annotation)):\n",
    "         row = {'FileName': file_name}\n",
    "    zeros = zeros.append(row,ignore_index = True)\n",
    "print(i)    "
   ]
  },
  {
   "cell_type": "code",
   "execution_count": null,
   "id": "0d2230c6",
   "metadata": {},
   "outputs": [],
   "source": [
    "print('High-level statistics:\\n')\n",
    "\n",
    "print('Original Images: ' +str(len(labels.Original.unique())))\n",
    "print('Image Tiles: '+str(len(labels.FileName.unique())))\n",
    "print('Categories: '+str(len(labels[\"Label\"].unique())) + \", \" + str(labels[\"Label\"].unique()))\n",
    "print('Zooniverse Subject Annotations: '+str(len(df.annotations)))\n",
    "print('Empty Image Tiles: ' + str(len(zeros.FileName.unique())))\n",
    "print('Unique Bird Labels: ' + str(len(labels)))\n",
    "print('Locations: ' + str(len(labels[\"Unit\"].unique())))"
   ]
  },
  {
   "cell_type": "code",
   "execution_count": null,
   "id": "923731f0",
   "metadata": {},
   "outputs": [],
   "source": [
    "#Images by category\n",
    "catgroup = labels.groupby(\"Label\")[\"FileName\"].unique().to_frame().reset_index()\n",
    "catgroup['Images'] = catgroup['FileName'].str.len()\n",
    "catgroup = catgroup.sort_values('Images', ascending=False)\n",
    "ax = catgroup.plot(x = \"Label\", y = \"Images\", kind = \"bar\", xlabel = \"Categories\", ylabel = \"Number of Images\", title = \"Images by Category\", legend = False)"
   ]
  },
  {
   "cell_type": "code",
   "execution_count": null,
   "id": "e77d59a7",
   "metadata": {},
   "outputs": [],
   "source": [
    "#Images by location\n",
    "group = labels.groupby(\"FileName\")[\"Unit\"].unique().to_frame().reset_index()\n",
    "group[\"Unit\"] = labels[\"Unit\"].str.rstrip(\"[]\")\n",
    "group[\"Unit\"].value_counts().plot(kind='bar', xlabel = \"Managment Unit\", ylabel = \"Number of Images\", title = \"Images by Location\")"
   ]
  },
  {
   "cell_type": "code",
   "execution_count": null,
   "id": "6c6cdae1",
   "metadata": {},
   "outputs": [],
   "source": [
    "#Categories by location\n",
    "pd.crosstab(labels['Unit'],labels['Label']).plot.bar(ylabel = \"Individual Bird Labels\", title = \"Number of Annotations per Category by Management Unit\")"
   ]
  }
 ],
 "metadata": {
  "kernelspec": {
   "display_name": "Python 3 (ipykernel)",
   "language": "python",
   "name": "python3"
  },
  "language_info": {
   "codemirror_mode": {
    "name": "ipython",
    "version": 3
   },
   "file_extension": ".py",
   "mimetype": "text/x-python",
   "name": "python",
   "nbconvert_exporter": "python",
   "pygments_lexer": "ipython3",
   "version": "3.9.7"
  }
 },
 "nbformat": 4,
 "nbformat_minor": 5
}
